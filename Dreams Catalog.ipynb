{
 "cells": [
  {
   "cell_type": "code",
   "execution_count": 66,
   "metadata": {
    "scrolled": true
   },
   "outputs": [],
   "source": [
    "import os, json\n",
    "import pandas as pd\n",
    "from tqdm import tqdm"
   ]
  },
  {
   "cell_type": "code",
   "execution_count": 67,
   "metadata": {},
   "outputs": [],
   "source": [
    "path_to_json = 'Dream Messages/'\n",
    "json_files = [pos_json for pos_json in os.listdir(path_to_json) if pos_json.endswith('.json')]"
   ]
  },
  {
   "cell_type": "code",
   "execution_count": 68,
   "metadata": {
    "scrolled": true
   },
   "outputs": [],
   "source": [
    "json_array = []\n",
    "\n",
    "for js in json_files:\n",
    "    with open(path_to_json + js) as json_file:\n",
    "        json_text = json.load(json_file)\n",
    "        json_array.append(json_text)"
   ]
  },
  {
   "cell_type": "code",
   "execution_count": 69,
   "metadata": {
    "scrolled": true
   },
   "outputs": [
    {
     "data": {
      "text/plain": [
       "dict_keys(['participants', 'messages', 'title', 'is_still_participant', 'thread_type', 'thread_path'])"
      ]
     },
     "execution_count": 69,
     "metadata": {},
     "output_type": "execute_result"
    }
   ],
   "source": [
    "json_text.keys()"
   ]
  },
  {
   "cell_type": "code",
   "execution_count": 116,
   "metadata": {
    "scrolled": false
   },
   "outputs": [
    {
     "name": "stderr",
     "output_type": "stream",
     "text": [
      "100%|██████████| 44/44 [00:05<00:00,  8.49it/s]\n"
     ]
    }
   ],
   "source": [
    "master_list = []\n",
    "\n",
    "for js in tqdm(json_array):\n",
    "    for message in js.get('messages'):\n",
    "        text_list = [message.get('sender_name'), message.get('timestamp_ms'), message.get('content'), message.get('type') ]\n",
    "        master_list.append(text_list)\n",
    "        \n",
    "js_df = pd.DataFrame(master_list, columns = ['sender_name', 'timestamp_ms', 'content', 'type'])"
   ]
  },
  {
   "cell_type": "code",
   "execution_count": 112,
   "metadata": {},
   "outputs": [],
   "source": [
    "js_df.dropna(inplace = True)\n",
    "js_df.loc[(js_df['sender_name'].str.contains('Rowena Chang')) & (js_df['content'] != 'sweet dreams')]\n",
    "dreams = js_df['is_dream'] = (js_df['content'].str.contains('dream') == True)"
   ]
  },
  {
   "cell_type": "code",
   "execution_count": 115,
   "metadata": {},
   "outputs": [
    {
     "data": {
      "text/html": [
       "<div>\n",
       "<style scoped>\n",
       "    .dataframe tbody tr th:only-of-type {\n",
       "        vertical-align: middle;\n",
       "    }\n",
       "\n",
       "    .dataframe tbody tr th {\n",
       "        vertical-align: top;\n",
       "    }\n",
       "\n",
       "    .dataframe thead th {\n",
       "        text-align: right;\n",
       "    }\n",
       "</style>\n",
       "<table border=\"1\" class=\"dataframe\">\n",
       "  <thead>\n",
       "    <tr style=\"text-align: right;\">\n",
       "      <th></th>\n",
       "      <th>sender_name</th>\n",
       "      <th>timestamp_ms</th>\n",
       "      <th>content</th>\n",
       "      <th>type</th>\n",
       "      <th>is_dream</th>\n",
       "    </tr>\n",
       "  </thead>\n",
       "  <tbody>\n",
       "    <tr>\n",
       "      <th>6</th>\n",
       "      <td>Rowena Chang</td>\n",
       "      <td>1564534508510</td>\n",
       "      <td>Damn I just miss u more now</td>\n",
       "      <td>Generic</td>\n",
       "      <td>False</td>\n",
       "    </tr>\n",
       "    <tr>\n",
       "      <th>7</th>\n",
       "      <td>Rowena Chang</td>\n",
       "      <td>1564534508510</td>\n",
       "      <td>Damn I just miss u more now</td>\n",
       "      <td>Generic</td>\n",
       "      <td>False</td>\n",
       "    </tr>\n",
       "    <tr>\n",
       "      <th>8</th>\n",
       "      <td>Rowena Chang</td>\n",
       "      <td>1564534503209</td>\n",
       "      <td>ð­ð­ð­ð­ð­ð­ð­ð­</td>\n",
       "      <td>Generic</td>\n",
       "      <td>False</td>\n",
       "    </tr>\n",
       "    <tr>\n",
       "      <th>9</th>\n",
       "      <td>Rowena Chang</td>\n",
       "      <td>1564534503209</td>\n",
       "      <td>ð­ð­ð­ð­ð­ð­ð­ð­</td>\n",
       "      <td>Generic</td>\n",
       "      <td>False</td>\n",
       "    </tr>\n",
       "    <tr>\n",
       "      <th>10</th>\n",
       "      <td>Rowena Chang</td>\n",
       "      <td>1564534499320</td>\n",
       "      <td>And the way he loves monica</td>\n",
       "      <td>Generic</td>\n",
       "      <td>False</td>\n",
       "    </tr>\n",
       "  </tbody>\n",
       "</table>\n",
       "</div>"
      ],
      "text/plain": [
       "     sender_name   timestamp_ms                           content     type  \\\n",
       "6   Rowena Chang  1564534508510       Damn I just miss u more now  Generic   \n",
       "7   Rowena Chang  1564534508510       Damn I just miss u more now  Generic   \n",
       "8   Rowena Chang  1564534503209  ð­ð­ð­ð­ð­ð­ð­ð­  Generic   \n",
       "9   Rowena Chang  1564534503209  ð­ð­ð­ð­ð­ð­ð­ð­  Generic   \n",
       "10  Rowena Chang  1564534499320       And the way he loves monica  Generic   \n",
       "\n",
       "    is_dream  \n",
       "6      False  \n",
       "7      False  \n",
       "8      False  \n",
       "9      False  \n",
       "10     False  "
      ]
     },
     "execution_count": 115,
     "metadata": {},
     "output_type": "execute_result"
    }
   ],
   "source": [
    "dreams.head()"
   ]
  },
  {
   "cell_type": "code",
   "execution_count": 114,
   "metadata": {},
   "outputs": [],
   "source": [
    "dreams.to_csv('all_dreams_final.csv', index = None)"
   ]
  }
 ],
 "metadata": {
  "kernelspec": {
   "display_name": "Python 3",
   "language": "python",
   "name": "python3"
  },
  "language_info": {
   "codemirror_mode": {
    "name": "ipython",
    "version": 3
   },
   "file_extension": ".py",
   "mimetype": "text/x-python",
   "name": "python",
   "nbconvert_exporter": "python",
   "pygments_lexer": "ipython3",
   "version": "3.7.6"
  }
 },
 "nbformat": 4,
 "nbformat_minor": 4
}
